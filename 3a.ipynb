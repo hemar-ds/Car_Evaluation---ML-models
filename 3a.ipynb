{
 "cells": [
  {
   "cell_type": "code",
   "execution_count": 2,
   "metadata": {},
   "outputs": [],
   "source": [
    "# Programming for DataScience - Student ID - 2233328\n",
    "import pandas as pd\n",
    "import numpy as np\n",
    "import seaborn as sns\n",
    "from sklearn.tree import DecisionTreeClassifier\n",
    "from sklearn.ensemble import AdaBoostClassifier\n",
    "from sklearn.model_selection import train_test_split\n",
    "from sklearn.model_selection import StratifiedKFold\n",
    "from sklearn.metrics import accuracy_score"
   ]
  },
  {
   "cell_type": "code",
   "execution_count": 3,
   "metadata": {},
   "outputs": [],
   "source": [
    "# chosen the column names from the car names file\n",
    "columns = ['buying', 'maint', 'doors', 'persons', 'lug_boot', 'safety', 'class'] "
   ]
  },
  {
   "cell_type": "code",
   "execution_count": 4,
   "metadata": {},
   "outputs": [
    {
     "data": {
      "text/html": [
       "<div>\n",
       "<style scoped>\n",
       "    .dataframe tbody tr th:only-of-type {\n",
       "        vertical-align: middle;\n",
       "    }\n",
       "\n",
       "    .dataframe tbody tr th {\n",
       "        vertical-align: top;\n",
       "    }\n",
       "\n",
       "    .dataframe thead th {\n",
       "        text-align: right;\n",
       "    }\n",
       "</style>\n",
       "<table border=\"1\" class=\"dataframe\">\n",
       "  <thead>\n",
       "    <tr style=\"text-align: right;\">\n",
       "      <th></th>\n",
       "      <th>buying</th>\n",
       "      <th>maint</th>\n",
       "      <th>doors</th>\n",
       "      <th>persons</th>\n",
       "      <th>lug_boot</th>\n",
       "      <th>safety</th>\n",
       "      <th>class</th>\n",
       "    </tr>\n",
       "  </thead>\n",
       "  <tbody>\n",
       "    <tr>\n",
       "      <th>0</th>\n",
       "      <td>vhigh</td>\n",
       "      <td>vhigh</td>\n",
       "      <td>2</td>\n",
       "      <td>2</td>\n",
       "      <td>small</td>\n",
       "      <td>low</td>\n",
       "      <td>unacc</td>\n",
       "    </tr>\n",
       "    <tr>\n",
       "      <th>1</th>\n",
       "      <td>vhigh</td>\n",
       "      <td>vhigh</td>\n",
       "      <td>2</td>\n",
       "      <td>2</td>\n",
       "      <td>small</td>\n",
       "      <td>med</td>\n",
       "      <td>unacc</td>\n",
       "    </tr>\n",
       "    <tr>\n",
       "      <th>2</th>\n",
       "      <td>vhigh</td>\n",
       "      <td>vhigh</td>\n",
       "      <td>2</td>\n",
       "      <td>2</td>\n",
       "      <td>small</td>\n",
       "      <td>high</td>\n",
       "      <td>unacc</td>\n",
       "    </tr>\n",
       "    <tr>\n",
       "      <th>3</th>\n",
       "      <td>vhigh</td>\n",
       "      <td>vhigh</td>\n",
       "      <td>2</td>\n",
       "      <td>2</td>\n",
       "      <td>med</td>\n",
       "      <td>low</td>\n",
       "      <td>unacc</td>\n",
       "    </tr>\n",
       "    <tr>\n",
       "      <th>4</th>\n",
       "      <td>vhigh</td>\n",
       "      <td>vhigh</td>\n",
       "      <td>2</td>\n",
       "      <td>2</td>\n",
       "      <td>med</td>\n",
       "      <td>med</td>\n",
       "      <td>unacc</td>\n",
       "    </tr>\n",
       "    <tr>\n",
       "      <th>...</th>\n",
       "      <td>...</td>\n",
       "      <td>...</td>\n",
       "      <td>...</td>\n",
       "      <td>...</td>\n",
       "      <td>...</td>\n",
       "      <td>...</td>\n",
       "      <td>...</td>\n",
       "    </tr>\n",
       "    <tr>\n",
       "      <th>1723</th>\n",
       "      <td>low</td>\n",
       "      <td>low</td>\n",
       "      <td>5more</td>\n",
       "      <td>more</td>\n",
       "      <td>med</td>\n",
       "      <td>med</td>\n",
       "      <td>good</td>\n",
       "    </tr>\n",
       "    <tr>\n",
       "      <th>1724</th>\n",
       "      <td>low</td>\n",
       "      <td>low</td>\n",
       "      <td>5more</td>\n",
       "      <td>more</td>\n",
       "      <td>med</td>\n",
       "      <td>high</td>\n",
       "      <td>vgood</td>\n",
       "    </tr>\n",
       "    <tr>\n",
       "      <th>1725</th>\n",
       "      <td>low</td>\n",
       "      <td>low</td>\n",
       "      <td>5more</td>\n",
       "      <td>more</td>\n",
       "      <td>big</td>\n",
       "      <td>low</td>\n",
       "      <td>unacc</td>\n",
       "    </tr>\n",
       "    <tr>\n",
       "      <th>1726</th>\n",
       "      <td>low</td>\n",
       "      <td>low</td>\n",
       "      <td>5more</td>\n",
       "      <td>more</td>\n",
       "      <td>big</td>\n",
       "      <td>med</td>\n",
       "      <td>good</td>\n",
       "    </tr>\n",
       "    <tr>\n",
       "      <th>1727</th>\n",
       "      <td>low</td>\n",
       "      <td>low</td>\n",
       "      <td>5more</td>\n",
       "      <td>more</td>\n",
       "      <td>big</td>\n",
       "      <td>high</td>\n",
       "      <td>vgood</td>\n",
       "    </tr>\n",
       "  </tbody>\n",
       "</table>\n",
       "<p>1728 rows × 7 columns</p>\n",
       "</div>"
      ],
      "text/plain": [
       "     buying  maint  doors persons lug_boot safety  class\n",
       "0     vhigh  vhigh      2       2    small    low  unacc\n",
       "1     vhigh  vhigh      2       2    small    med  unacc\n",
       "2     vhigh  vhigh      2       2    small   high  unacc\n",
       "3     vhigh  vhigh      2       2      med    low  unacc\n",
       "4     vhigh  vhigh      2       2      med    med  unacc\n",
       "...     ...    ...    ...     ...      ...    ...    ...\n",
       "1723    low    low  5more    more      med    med   good\n",
       "1724    low    low  5more    more      med   high  vgood\n",
       "1725    low    low  5more    more      big    low  unacc\n",
       "1726    low    low  5more    more      big    med   good\n",
       "1727    low    low  5more    more      big   high  vgood\n",
       "\n",
       "[1728 rows x 7 columns]"
      ]
     },
     "execution_count": 4,
     "metadata": {},
     "output_type": "execute_result"
    }
   ],
   "source": [
    "data = pd.read_csv(\"car.csv\",names=columns)\n",
    "data"
   ]
  },
  {
   "cell_type": "code",
   "execution_count": 5,
   "metadata": {},
   "outputs": [
    {
     "data": {
      "text/plain": [
       "buying      0\n",
       "maint       0\n",
       "doors       0\n",
       "persons     0\n",
       "lug_boot    0\n",
       "safety      0\n",
       "class       0\n",
       "dtype: int64"
      ]
     },
     "execution_count": 5,
     "metadata": {},
     "output_type": "execute_result"
    }
   ],
   "source": [
    "#calculating the Nan values\n",
    "data.isna().sum()"
   ]
  },
  {
   "cell_type": "code",
   "execution_count": 6,
   "metadata": {},
   "outputs": [
    {
     "data": {
      "text/plain": [
       "<matplotlib.axes._subplots.AxesSubplot at 0x2522c7f53a0>"
      ]
     },
     "execution_count": 6,
     "metadata": {},
     "output_type": "execute_result"
    },
    {
     "data": {
      "image/png": "[encoded data removed]",
      "text/plain": [
       "<Figure size 432x288 with 2 Axes>"
      ]
     },
     "metadata": {
      "needs_background": "light"
     },
     "output_type": "display_data"
    }
   ],
   "source": [
    "# Visualize how much data missing in columns . As there is no missing value, plot doesn't show anything\n",
    "import seaborn as sns\n",
    "\n",
    "sns.heatmap(data.isnull())"
   ]
  },
  {
   "cell_type": "code",
   "execution_count": 7,
   "metadata": {},
   "outputs": [
    {
     "data": {
      "text/plain": [
       "<matplotlib.axes._subplots.AxesSubplot at 0x2522cfc97f0>"
      ]
     },
     "execution_count": 7,
     "metadata": {},
     "output_type": "execute_result"
    },
    {
     "data": {
      "image/png": "[encoded data removed]",
      "text/plain": [
       "<Figure size 432x288 with 1 Axes>"
      ]
     },
     "metadata": {
      "needs_background": "light"
     },
     "output_type": "display_data"
    }
   ],
   "source": [
    "sns.countplot(x='class',data=data)"
   ]
  },
  {
   "cell_type": "code",
   "execution_count": 8,
   "metadata": {},
   "outputs": [
    {
     "data": {
      "text/plain": [
       "unacc    1210\n",
       "acc       384\n",
       "good       69\n",
       "vgood      65\n",
       "Name: class, dtype: int64"
      ]
     },
     "execution_count": 8,
     "metadata": {},
     "output_type": "execute_result"
    }
   ],
   "source": [
    "# number of counts of each possible value in \"class\"\n",
    "data['class'].value_counts()"
   ]
  },
  {
   "cell_type": "code",
   "execution_count": 9,
   "metadata": {},
   "outputs": [],
   "source": [
    "#Assigning numerical values and assigning to the variable as sklearn doesn't recognize string\n",
    "def label(data, feature):\n",
    "    feature_label_name = {ni: n for n, ni in enumerate(set(data[feature]))}\n",
    "    return feature_label_name\n",
    "buying_label = label(data, 'buying')\n",
    "maint_label = label(data, 'maint')\n",
    "doors_label = label(data, 'doors')\n",
    "person_label = label(data, 'persons')\n",
    "lug_boot_label = label(data, 'lug_boot')\n",
    "safety_label = label(data, 'safety')\n",
    "class_label = label(data, 'class')"
   ]
  },
  {
   "cell_type": "code",
   "execution_count": 10,
   "metadata": {},
   "outputs": [
    {
     "data": {
      "text/html": [
       "<div>\n",
       "<style scoped>\n",
       "    .dataframe tbody tr th:only-of-type {\n",
       "        vertical-align: middle;\n",
       "    }\n",
       "\n",
       "    .dataframe tbody tr th {\n",
       "        vertical-align: top;\n",
       "    }\n",
       "\n",
       "    .dataframe thead th {\n",
       "        text-align: right;\n",
       "    }\n",
       "</style>\n",
       "<table border=\"1\" class=\"dataframe\">\n",
       "  <thead>\n",
       "    <tr style=\"text-align: right;\">\n",
       "      <th></th>\n",
       "      <th>buying</th>\n",
       "      <th>maint</th>\n",
       "      <th>doors</th>\n",
       "      <th>persons</th>\n",
       "      <th>lug_boot</th>\n",
       "      <th>safety</th>\n",
       "      <th>class</th>\n",
       "    </tr>\n",
       "  </thead>\n",
       "  <tbody>\n",
       "    <tr>\n",
       "      <th>0</th>\n",
       "      <td>2</td>\n",
       "      <td>2</td>\n",
       "      <td>3</td>\n",
       "      <td>2</td>\n",
       "      <td>2</td>\n",
       "      <td>2</td>\n",
       "      <td>2</td>\n",
       "    </tr>\n",
       "    <tr>\n",
       "      <th>1</th>\n",
       "      <td>2</td>\n",
       "      <td>2</td>\n",
       "      <td>3</td>\n",
       "      <td>2</td>\n",
       "      <td>2</td>\n",
       "      <td>0</td>\n",
       "      <td>2</td>\n",
       "    </tr>\n",
       "    <tr>\n",
       "      <th>2</th>\n",
       "      <td>2</td>\n",
       "      <td>2</td>\n",
       "      <td>3</td>\n",
       "      <td>2</td>\n",
       "      <td>2</td>\n",
       "      <td>1</td>\n",
       "      <td>2</td>\n",
       "    </tr>\n",
       "    <tr>\n",
       "      <th>3</th>\n",
       "      <td>2</td>\n",
       "      <td>2</td>\n",
       "      <td>3</td>\n",
       "      <td>2</td>\n",
       "      <td>0</td>\n",
       "      <td>2</td>\n",
       "      <td>2</td>\n",
       "    </tr>\n",
       "    <tr>\n",
       "      <th>4</th>\n",
       "      <td>2</td>\n",
       "      <td>2</td>\n",
       "      <td>3</td>\n",
       "      <td>2</td>\n",
       "      <td>0</td>\n",
       "      <td>0</td>\n",
       "      <td>2</td>\n",
       "    </tr>\n",
       "    <tr>\n",
       "      <th>...</th>\n",
       "      <td>...</td>\n",
       "      <td>...</td>\n",
       "      <td>...</td>\n",
       "      <td>...</td>\n",
       "      <td>...</td>\n",
       "      <td>...</td>\n",
       "      <td>...</td>\n",
       "    </tr>\n",
       "    <tr>\n",
       "      <th>1723</th>\n",
       "      <td>1</td>\n",
       "      <td>1</td>\n",
       "      <td>1</td>\n",
       "      <td>1</td>\n",
       "      <td>0</td>\n",
       "      <td>0</td>\n",
       "      <td>1</td>\n",
       "    </tr>\n",
       "    <tr>\n",
       "      <th>1724</th>\n",
       "      <td>1</td>\n",
       "      <td>1</td>\n",
       "      <td>1</td>\n",
       "      <td>1</td>\n",
       "      <td>0</td>\n",
       "      <td>1</td>\n",
       "      <td>0</td>\n",
       "    </tr>\n",
       "    <tr>\n",
       "      <th>1725</th>\n",
       "      <td>1</td>\n",
       "      <td>1</td>\n",
       "      <td>1</td>\n",
       "      <td>1</td>\n",
       "      <td>1</td>\n",
       "      <td>2</td>\n",
       "      <td>2</td>\n",
       "    </tr>\n",
       "    <tr>\n",
       "      <th>1726</th>\n",
       "      <td>1</td>\n",
       "      <td>1</td>\n",
       "      <td>1</td>\n",
       "      <td>1</td>\n",
       "      <td>1</td>\n",
       "      <td>0</td>\n",
       "      <td>1</td>\n",
       "    </tr>\n",
       "    <tr>\n",
       "      <th>1727</th>\n",
       "      <td>1</td>\n",
       "      <td>1</td>\n",
       "      <td>1</td>\n",
       "      <td>1</td>\n",
       "      <td>1</td>\n",
       "      <td>1</td>\n",
       "      <td>0</td>\n",
       "    </tr>\n",
       "  </tbody>\n",
       "</table>\n",
       "<p>1728 rows × 7 columns</p>\n",
       "</div>"
      ],
      "text/plain": [
       "      buying  maint  doors  persons  lug_boot  safety  class\n",
       "0          2      2      3        2         2       2      2\n",
       "1          2      2      3        2         2       0      2\n",
       "2          2      2      3        2         2       1      2\n",
       "3          2      2      3        2         0       2      2\n",
       "4          2      2      3        2         0       0      2\n",
       "...      ...    ...    ...      ...       ...     ...    ...\n",
       "1723       1      1      1        1         0       0      1\n",
       "1724       1      1      1        1         0       1      0\n",
       "1725       1      1      1        1         1       2      2\n",
       "1726       1      1      1        1         1       0      1\n",
       "1727       1      1      1        1         1       1      0\n",
       "\n",
       "[1728 rows x 7 columns]"
      ]
     },
     "execution_count": 10,
     "metadata": {},
     "output_type": "execute_result"
    }
   ],
   "source": [
    "df = data\n",
    "df['buying'] = df['buying'].map(buying_label)\n",
    "df['maint'] = df['maint'].map(maint_label)\n",
    "df['doors'] = df['doors'].map(doors_label)\n",
    "df['persons'] = df['persons'].map(person_label)\n",
    "df['lug_boot'] = df['lug_boot'].map(lug_boot_label)\n",
    "df['safety'] = df['safety'].map(safety_label)\n",
    "df['class'] = df['class'].map(class_label)\n",
    "df"
   ]
  },
  {
   "cell_type": "code",
   "execution_count": 11,
   "metadata": {},
   "outputs": [
    {
     "name": "stdout",
     "output_type": "stream",
     "text": [
      "buying_label {'high': 0, 'low': 1, 'vhigh': 2, 'med': 3}\n",
      "maint_label {'high': 0, 'low': 1, 'vhigh': 2, 'med': 3}\n",
      "doors_label {'4': 0, '5more': 1, '3': 2, '2': 3}\n",
      "persons_label {'4': 0, 'more': 1, '2': 2}\n",
      "lug_boot_label {'med': 0, 'big': 1, 'small': 2}\n",
      "safety_label {'med': 0, 'high': 1, 'low': 2}\n",
      "class_label {'vgood': 0, 'good': 1, 'unacc': 2, 'acc': 3}\n"
     ]
    }
   ],
   "source": [
    "print(\"buying_label\",buying_label)\n",
    "print(\"maint_label\",maint_label)\n",
    "print(\"doors_label\",doors_label)\n",
    "print(\"persons_label\",person_label)\n",
    "print(\"lug_boot_label\",lug_boot_label)\n",
    "print(\"safety_label\",safety_label)\n",
    "print(\"class_label\",class_label)"
   ]
  },
  {
   "cell_type": "code",
   "execution_count": 12,
   "metadata": {},
   "outputs": [
    {
     "data": {
      "text/plain": [
       "2    1210\n",
       "3     384\n",
       "1      69\n",
       "0      65\n",
       "Name: class, dtype: int64"
      ]
     },
     "execution_count": 12,
     "metadata": {},
     "output_type": "execute_result"
    }
   ],
   "source": [
    "# Values in the column 'class'\n",
    "df['class'].value_counts()"
   ]
  },
  {
   "cell_type": "code",
   "execution_count": 13,
   "metadata": {},
   "outputs": [],
   "source": [
    "# X and y values from the dataset\n",
    "X = df.iloc[:,:5].values\n",
    "y = df.iloc[:,6:].values"
   ]
  },
  {
   "cell_type": "code",
   "execution_count": 14,
   "metadata": {},
   "outputs": [
    {
     "name": "stdout",
     "output_type": "stream",
     "text": [
      "Fold:1, Train set: 1555, Test set:173\n",
      "Fold:2, Train set: 1555, Test set:173\n",
      "Fold:3, Train set: 1555, Test set:173\n",
      "Fold:4, Train set: 1555, Test set:173\n",
      "Fold:5, Train set: 1555, Test set:173\n",
      "Fold:6, Train set: 1555, Test set:173\n",
      "Fold:7, Train set: 1555, Test set:173\n",
      "Fold:8, Train set: 1555, Test set:173\n",
      "Fold:9, Train set: 1556, Test set:172\n",
      "Fold:10, Train set: 1556, Test set:172\n"
     ]
    }
   ],
   "source": [
    "# Chooseing train and test values for the 10 fold dataset.stratified k-fold cross-validation, the folds are selected so that the mean response value is approximately equal in all the folds\n",
    "# Random state- 42, to get the same output\n",
    "#Test train split data with 10 folds\n",
    "kf_data = StratifiedKFold(n_splits=10, shuffle=True,random_state=42)\n",
    "cnt = 1\n",
    "for train_index, test_index in kf_data.split(X, y):\n",
    "    print(f'Fold:{cnt}, Train set: {len(train_index)}, Test set:{len(test_index)}')\n",
    "    cnt+=1\n",
    "  #  print(kf_data)\n",
    "Xtrain, Xtest = X[train_index], X[test_index]\n",
    "ytrain, ytest = y[train_index], y[test_index]\n",
    "    "
   ]
  },
  {
   "cell_type": "code",
   "execution_count": 15,
   "metadata": {},
   "outputs": [],
   "source": [
    "# Defining function to calculate the accuracy using training and testing data\n",
    "def classifier(model, Xtrain, Xtest, ytrain, y_test):\n",
    "    clf = model\n",
    "    clf.fit(Xtrain, ytrain)\n",
    "    y_pred = clf.predict(Xtest)\n",
    "    y_score = clf.fit(Xtrain, ytrain)\n",
    "    score = accuracy_score(ytest, y_pred)\n",
    "    return score, model"
   ]
  },
  {
   "cell_type": "code",
   "execution_count": 16,
   "metadata": {},
   "outputs": [
    {
     "name": "stdout",
     "output_type": "stream",
     "text": [
      "Accuracy with no fold: DecisionTreeClassifier(random_state=42) 0.5755813953488372\n"
     ]
    },
    {
     "name": "stderr",
     "output_type": "stream",
     "text": [
      "C:\\Users\\urshe\\anaconda3\\lib\\site-packages\\sklearn\\utils\\validation.py:73: DataConversionWarning: A column-vector y was passed when a 1d array was expected. Please change the shape of y to (n_samples, ), for example using ravel().\n",
      "  return f(**kwargs)\n",
      "C:\\Users\\urshe\\anaconda3\\lib\\site-packages\\sklearn\\utils\\validation.py:73: DataConversionWarning: A column-vector y was passed when a 1d array was expected. Please change the shape of y to (n_samples, ), for example using ravel().\n",
      "  return f(**kwargs)\n"
     ]
    },
    {
     "name": "stdout",
     "output_type": "stream",
     "text": [
      "Accuracy with no fold: AdaBoostClassifier(n_estimators=100) 0.5872093023255814\n"
     ]
    }
   ],
   "source": [
    "# Calculating Accuracy with no fold\n",
    "score , tree_model = classifier(DecisionTreeClassifier(random_state=42),Xtrain, Xtest, ytrain, ytest)\n",
    "print(\"Accuracy with no fold:\",tree_model,score)\n",
    "score,model = classifier(AdaBoostClassifier(n_estimators = 100),Xtrain, Xtest, ytrain, ytest)\n",
    "print(\"Accuracy with no fold:\",model,score)\n"
   ]
  },
  {
   "cell_type": "code",
   "execution_count": 17,
   "metadata": {},
   "outputs": [
    {
     "name": "stdout",
     "output_type": "stream",
     "text": [
      "Decision Tree: Accuracy for each fold : 0.5838150289017341\n",
      "Decision Tree: Accuracy for each fold : 0.5664739884393064\n",
      "Decision Tree: Accuracy for each fold : 0.5953757225433526\n",
      "Decision Tree: Accuracy for each fold : 0.5491329479768786\n",
      "Decision Tree: Accuracy for each fold : 0.5953757225433526\n",
      "Decision Tree: Accuracy for each fold : 0.5606936416184971\n",
      "Decision Tree: Accuracy for each fold : 0.5780346820809249\n",
      "Decision Tree: Accuracy for each fold : 0.5780346820809249\n",
      "Decision Tree: Accuracy for each fold : 0.563953488372093\n",
      "Decision Tree: Accuracy for each fold : 0.5755813953488372\n",
      "\n",
      "Decision Tree:AVERAGE ACCURACY: 0.5746\n"
     ]
    }
   ],
   "source": [
    "#Decision Tree Classifier with 10 folds\n",
    "from sklearn.tree import DecisionTreeClassifier\n",
    "from sklearn.model_selection import cross_val_score\n",
    "clf_tree = DecisionTreeClassifier(random_state=42)\n",
    "clf_tree.fit(Xtrain, ytrain)\n",
    "cv_score = cross_val_score(clf_tree, X, y, cv=kf_data,scoring=\"accuracy\")\n",
    "cv_score_m = cv_score.mean()\n",
    "for i in range(10):\n",
    "    print(f'Decision Tree: Accuracy for each fold : {cv_score[i]}')\n",
    "\n",
    "print(f'\\nDecision Tree:AVERAGE ACCURACY: {\"{:.4f}\".format(cv_score.mean())}')\n"
   ]
  },
  {
   "cell_type": "code",
   "execution_count": 18,
   "metadata": {},
   "outputs": [
    {
     "name": "stdout",
     "output_type": "stream",
     "text": [
      "Adaboost :Accuracy for each fold : 0.6127167630057804\n",
      "Adaboost :Accuracy for each fold : 0.5549132947976878\n",
      "Adaboost :Accuracy for each fold : 0.5722543352601156\n",
      "Adaboost :Accuracy for each fold : 0.5491329479768786\n",
      "Adaboost :Accuracy for each fold : 0.5433526011560693\n",
      "Adaboost :Accuracy for each fold : 0.5780346820809249\n",
      "Adaboost :Accuracy for each fold : 0.5433526011560693\n",
      "Adaboost :Accuracy for each fold : 0.5664739884393064\n",
      "Adaboost :Accuracy for each fold : 0.5058139534883721\n",
      "Adaboost :Accuracy for each fold : 0.5872093023255814\n",
      "\n",
      "Adaboost : AVERAGE ACCURACY: 0.5613\n"
     ]
    }
   ],
   "source": [
    "# AdaBoost classifier with 10 folds\n",
    "# define the model\n",
    "model = AdaBoostClassifier(n_estimators = 100, learning_rate = 1,random_state=42)\n",
    "y = np.ravel(y)\n",
    "# evaluate the model\n",
    "cv_score_boost = cross_val_score(model, X, y, cv=kf_data,scoring=\"accuracy\")\n",
    "# report performance\n",
    "for i in range(10):\n",
    "    print(f'Adaboost :Accuracy for each fold : {cv_score_boost[i]}')\n",
    "    \n",
    "print(f'\\nAdaboost : AVERAGE ACCURACY: {\"{:.4f}\".format(cv_score_boost.mean())}')\n"
   ]
  },
  {
   "cell_type": "code",
   "execution_count": 19,
   "metadata": {},
   "outputs": [
    {
     "data": {
      "text/plain": [
       "<matplotlib.axes._subplots.AxesSubplot at 0x2522d0dc340>"
      ]
     },
     "execution_count": 19,
     "metadata": {},
     "output_type": "execute_result"
    },
    {
     "data": {
      "image/png": "[encoded data removed]",
      "text/plain": [
       "<Figure size 432x288 with 1 Axes>"
      ]
     },
     "metadata": {
      "needs_background": "light"
     },
     "output_type": "display_data"
    }
   ],
   "source": [
    "# To visualize whether the data is distributed normally. The graphs shows the Gaussian distribution.\n",
    "sns.distplot(X)"
   ]
  },
  {
   "cell_type": "code",
   "execution_count": 27,
   "metadata": {},
   "outputs": [
    {
     "name": "stdout",
     "output_type": "stream",
     "text": [
      "1.4508388597301933 0.18076844134256218\n",
      "Same distribution (fail to reject H0.No Significant difference)\n"
     ]
    }
   ],
   "source": [
    "# Paired Stident t-test.As the graph shows the Gaussian distribution , I have chosen the Parametric statistical test\n",
    "# to compare the performance of the model.Parametric analysis is to test group means.\n",
    "#A paired t-test compares the differences of accuracies and we use the same data for both the models\n",
    "\n",
    "from scipy import stats\n",
    "acc_list_DT = cv_score # Decision Tree accuracies for 10 fold\n",
    "acc_list_AB= cv_score_boost # Ada boost accuracies for 10 fold\n",
    "\n",
    "# compare samples\n",
    "stat, p = stats.ttest_rel(acc_list_DT, acc_list_AB)\n",
    "print(stat,p)\n",
    "#print('Statistics=%.3f, p=%.3f' % (stat, p))\n",
    "# interpret\n",
    "alpha = 0.05\n",
    "if p > alpha:\n",
    "\tprint('Same distribution (fail to reject H0.No Significant difference)')\n",
    "else:\n",
    "\tprint('Different distribution. Significant difference')"
   ]
  },
  {
   "cell_type": "code",
   "execution_count": 21,
   "metadata": {},
   "outputs": [],
   "source": [
    "#The result is :1.4508388597301933  and stat =0.18076844134256218\n",
    "#Same distribution (fail to reject H0.No Significant difference)\n",
    "# The model has no significance as the p_value is >0.05.So both the models may probably have same performance."
   ]
  },
  {
   "cell_type": "code",
   "execution_count": null,
   "metadata": {},
   "outputs": [],
   "source": []
  }
 ],
 "metadata": {
  "kernelspec": {
   "display_name": "Python 3",
   "language": "python",
   "name": "python3"
  },
  "language_info": {
   "codemirror_mode": {
    "name": "ipython",
    "version": 3
   },
   "file_extension": ".py",
   "mimetype": "text/x-python",
   "name": "python",
   "nbconvert_exporter": "python",
   "pygments_lexer": "ipython3",
   "version": "3.8.5"
  }
 },
 "nbformat": 4,
 "nbformat_minor": 4
}
